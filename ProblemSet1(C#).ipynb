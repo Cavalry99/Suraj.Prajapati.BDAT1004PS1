{
 "cells": [
  {
   "cell_type": "markdown",
   "id": "bf21bd7f",
   "metadata": {},
   "source": [
    "Question 1 C#\n",
    "What data type is each of the following?\n",
    "5\n",
    "5.0\n",
    "5>1\n",
    "'5'\n",
    "5*2\n",
    "'5' * 2\n",
    "'5' + '2'\n",
    "5/2\n",
    "5%2\n",
    "{5, 2, 1}\n",
    "5 == 3\n",
    "Pi (the number)"
   ]
  },
  {
   "cell_type": "markdown",
   "id": "e0c25c82",
   "metadata": {},
   "source": [
    "Answer 1\n",
    "Integer,\n",
    "Floating point,\n",
    "Boolean Expression,\n",
    "Character,\n",
    "Integer,\n",
    "Not valid,\n",
    "String,\n",
    "Floating point,\n",
    "Integer,\n",
    "Enumerated,\n",
    "Not valid,\n",
    "Double."
   ]
  },
  {
   "cell_type": "markdown",
   "id": "ef8b497d",
   "metadata": {},
   "source": [
    "Question 2 C#\n",
    "Write (and evaluate) C# expressions that answer these questions:\n",
    "a. How many letters are there in 'Supercalifragilisticexpialidocious'?\n",
    "b. Does 'Supercalifragilisticexpialidocious' contain 'ice' as a substring?\n",
    "c. Which of the following words is the longest: Supercalifragilisticexpialidocious, Honorificabilitudinitatibus, or Bababadalgharaghtakamminarronnkonn?\n",
    "d. Which composer comes first in the dictionary: 'Berlioz', 'Borodin', 'Brian', 'Bartok', 'Bellini', 'Buxtehude', 'Bernstein'. Which one comes last?"
   ]
  },
  {
   "cell_type": "code",
   "execution_count": 1,
   "id": "04df3d87",
   "metadata": {},
   "outputs": [
    {
     "name": "stdout",
     "output_type": "stream",
     "text": [
      "34\n"
     ]
    }
   ],
   "source": [
    "string Word = (\"Supercalifragilisticexpialidocious\");\n",
    "         int l = Word.Length;      \n",
    "         Console.WriteLine(\"{0}\", l);"
   ]
  },
  {
   "cell_type": "code",
   "execution_count": 6,
   "id": "5e3737a0",
   "metadata": {},
   "outputs": [
    {
     "name": "stdout",
     "output_type": "stream",
     "text": [
      "34\n"
     ]
    },
    {
     "ename": "Unhandled Exception",
     "evalue": "Operator '+' cannot be applied to operands of type 'int' and 'Microsoft.DotNet.Interactive.Rendering.PocketView'",
     "output_type": "error",
     "traceback": [
      "Unhandled Exception",
      "Operator '+' cannot be applied to operands of type 'int' and 'Microsoft.DotNet.Interactive.Rendering.PocketView'",
      "   at CallSite.Target(Closure , CallSite , Int32 , Object )",
      "   at System.Dynamic.UpdateDelegates.UpdateAndExecute2[T0,T1,TRet](CallSite site, T0 arg0, T1 arg1)",
      "   at Submission#7.<<Initialize>>d__0.MoveNext()",
      "--- End of stack trace from previous location where exception was thrown ---",
      "   at Microsoft.CodeAnalysis.Scripting.ScriptExecutionState.RunSubmissionsAsync[TResult](ImmutableArray`1 precedingExecutors, Func`2 currentExecutor, StrongBox`1 exceptionHolderOpt, Func`2 catchExceptionOpt, CancellationToken cancellationToken)"
     ]
    }
   ],
   "source": [
    "string Word = (\"Supercalifragilisticexpialidocious\");\n",
    "         int l = Word.Length;      \n",
    "         Console.WriteLine(\"{0}\", l);\n",
    "string str1 = (\"ice\");\n",
    "            string m = Word.Substring(0, 3);\n",
    "            for (int a = 0; a > l; a++)\n",
    "                if (m == str1)\n",
    "                    Console.WriteLine(\"yes\");\n",
    "            m = Word.Substring(0 + a, 3);"
   ]
  },
  {
   "cell_type": "code",
   "execution_count": 4,
   "id": "d2b1d89e",
   "metadata": {},
   "outputs": [
    {
     "name": "stdout",
     "output_type": "stream",
     "text": [
      "Supercalifragilisticexpialidocious is the longest word\n"
     ]
    }
   ],
   "source": [
    "string str1 = (\"Supercalifragilisticexpialidocious\");\n",
    "string str2 = (\"Honorificabilitudinitatibus\");\n",
    "string str3 = (\"ababadalgharaghtakamminarronnkonn\");\n",
    "if (str1.Length > str2.Length)\n",
    "    if (str1.Length > str3.Length)\n",
    "        Console.WriteLine(\"{0} is the longest word\", str1);\n",
    "    else\n",
    "        Console.WriteLine(\"{0} is the longest word\", str3);\n",
    "    else if(str2.Length>str3.Length)\n",
    "        Console.WriteLine(\"{0} is the longest word\", str2);\n",
    "    else\n",
    "        Console.WriteLine(\"{0} is the longest word\", str3);"
   ]
  },
  {
   "cell_type": "code",
   "execution_count": 10,
   "id": "fce0be23",
   "metadata": {},
   "outputs": [
    {
     "name": "stdout",
     "output_type": "stream",
     "text": [
      "Bartok comes first and Buxtehude comes last\n"
     ]
    }
   ],
   "source": [
    "var doctors = new List<string> { \"Berlioz\", \"Borodin\", \"Brian\", \"Bartok\", \"Bellini\", \"Buxtehude\", \"Bernstein\" };\n",
    "    doctors.Sort();\n",
    "    Console.WriteLine(\"{0} comes first and {1} comes last\", doctors[0], doctors[6]);"
   ]
  },
  {
   "cell_type": "markdown",
   "id": "ddb78c1b",
   "metadata": {},
   "source": [
    "Question 4 C#\n",
    "Write a program in C# Sharp to separate odd and even integers in separate arrays. Go to the editor\n",
    "Test Data :\n",
    "Input the number of elements to be stored in the array :5\n",
    "Input 5 elements in the array : element - 0 : 25\n",
    "element - 1 : 47\n",
    "element - 2 : 42\n",
    "element - 3 : 56 element - 4 : 32 Expected Output:\n",
    "The Even elements are: 42 56 32\n",
    "The Odd elements are : 25 47"
   ]
  },
  {
   "cell_type": "markdown",
   "id": "bdfc0012",
   "metadata": {},
   "source": [
    "elements = {25,47,42,56,32}\n",
    "    odd  = {}\n",
    "    even = {}\n",
    "    for(int i = 0;i<5; i++)\n",
    "    {\n",
    "        if(elements[i] % 2 == 1)\n",
    "        {\n",
    "          odd(element[i]);\n",
    "        }\n",
    "        else\n",
    "        {\n",
    "          even(element[i]);\n",
    "        }\n",
    "    }\n",
    "    "
   ]
  }
 ],
 "metadata": {
  "kernelspec": {
   "display_name": ".NET (C#)",
   "language": "C#",
   "name": ".net-csharp"
  },
  "language_info": {
   "file_extension": ".cs",
   "mimetype": "text/x-csharp",
   "name": "C#",
   "pygments_lexer": "csharp",
   "version": "8.0"
  }
 },
 "nbformat": 4,
 "nbformat_minor": 5
}
